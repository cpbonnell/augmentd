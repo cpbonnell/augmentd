{
 "cells": [
  {
   "cell_type": "code",
   "execution_count": 48,
   "metadata": {},
   "outputs": [],
   "source": [
    "from string import ascii_uppercase"
   ]
  },
  {
   "cell_type": "code",
   "execution_count": 57,
   "metadata": {},
   "outputs": [
    {
     "data": {
      "text/plain": [
       "['A', 'B', 'C', 'D', 'E', 'F', 'G']"
      ]
     },
     "execution_count": 57,
     "metadata": {},
     "output_type": "execute_result"
    }
   ],
   "source": [
    "white_keys = list(ascii_uppercase[:7])\n",
    "white_keys"
   ]
  },
  {
   "cell_type": "code",
   "execution_count": 60,
   "metadata": {},
   "outputs": [
    {
     "data": {
      "text/plain": [
       "['A#', 'C#', 'D#', 'F#', 'G#']"
      ]
     },
     "execution_count": 60,
     "metadata": {},
     "output_type": "execute_result"
    }
   ],
   "source": [
    "# Method 1: remove forbidden elements\n",
    "sharp_black_keys = [k + \"#\" for k in white_keys]\n",
    "sharp_black_keys.remove(\"E#\")\n",
    "sharp_black_keys.remove(\"B#\")\n",
    "sharp_black_keys"
   ]
  },
  {
   "cell_type": "code",
   "execution_count": 61,
   "metadata": {},
   "outputs": [
    {
     "data": {
      "text/plain": [
       "['Ab', 'Bb', 'Db', 'Eb', 'Gb']"
      ]
     },
     "execution_count": 61,
     "metadata": {},
     "output_type": "execute_result"
    }
   ],
   "source": [
    "# Method 2: Exclude forbidden elements in the comprehension\n",
    "flat_black_keys = [k + \"b\" for k in white_keys if k not in (\"C\", \"F\")]\n",
    "flat_black_keys"
   ]
  },
  {
   "cell_type": "code",
   "execution_count": 70,
   "metadata": {},
   "outputs": [],
   "source": [
    "allowable_names = set(white_keys + sharp_black_keys + flat_black_keys)"
   ]
  },
  {
   "cell_type": "code",
   "execution_count": 74,
   "metadata": {},
   "outputs": [
    {
     "data": {
      "text/plain": [
       "['A', 'A#', 'B', 'C', 'C#', 'D', 'D#', 'E', 'F', 'F#', 'G', 'G#']"
      ]
     },
     "execution_count": 74,
     "metadata": {},
     "output_type": "execute_result"
    }
   ],
   "source": [
    "notes = sorted(white_keys + sharp_black_keys)\n",
    "notes"
   ]
  },
  {
   "cell_type": "code",
   "execution_count": null,
   "metadata": {},
   "outputs": [],
   "source": []
  },
  {
   "cell_type": "code",
   "execution_count": 92,
   "metadata": {},
   "outputs": [],
   "source": [
    "def flat_to_sharp(name: str) -> str:\n",
    "    assert name in flat_black_keys\n",
    "\n",
    "    letter = name[0]\n",
    "    letter_position = notes.index(letter)\n",
    "    name_position = letter_position - 1\n",
    "\n",
    "    result = notes[name_position]\n",
    "    return result\n",
    "\n"
   ]
  },
  {
   "cell_type": "code",
   "execution_count": 96,
   "metadata": {},
   "outputs": [],
   "source": [
    "def find_interval(low: str, high: str) -> int:\n",
    "    \"\"\"Number of half-steps between low and high.\"\"\"\n",
    "    if low in flat_black_keys:\n",
    "        low = flat_to_sharp(low)\n",
    "\n",
    "    if high in flat_black_keys:\n",
    "        high = flat_to_sharp(high)\n",
    "\n",
    "    low_index = notes.index(low)\n",
    "    high_index = notes.index(high)\n",
    "\n",
    "    if low_index > high_index:\n",
    "        high_index = high_index + len(notes)\n",
    "\n",
    "    return high_index - low_index\n",
    "    "
   ]
  },
  {
   "cell_type": "code",
   "execution_count": 99,
   "metadata": {},
   "outputs": [
    {
     "data": {
      "text/plain": [
       "(1, 4)"
      ]
     },
     "execution_count": 99,
     "metadata": {},
     "output_type": "execute_result"
    }
   ],
   "source": [
    "tuple([1, 4])"
   ]
  },
  {
   "cell_type": "code",
   "execution_count": 97,
   "metadata": {},
   "outputs": [
    {
     "data": {
      "text/plain": [
       "7"
      ]
     },
     "execution_count": 97,
     "metadata": {},
     "output_type": "execute_result"
    }
   ],
   "source": [
    "find_interval(\"C\", \"G\")"
   ]
  },
  {
   "cell_type": "code",
   "execution_count": 98,
   "metadata": {},
   "outputs": [
    {
     "data": {
      "text/plain": [
       "7"
      ]
     },
     "execution_count": 98,
     "metadata": {},
     "output_type": "execute_result"
    }
   ],
   "source": [
    "find_interval(\"F\", \"C\")"
   ]
  },
  {
   "cell_type": "code",
   "execution_count": null,
   "metadata": {},
   "outputs": [],
   "source": []
  },
  {
   "cell_type": "code",
   "execution_count": null,
   "metadata": {},
   "outputs": [],
   "source": []
  },
  {
   "cell_type": "code",
   "execution_count": 105,
   "metadata": {},
   "outputs": [],
   "source": [
    "from itertools import combinations"
   ]
  },
  {
   "cell_type": "code",
   "execution_count": 104,
   "metadata": {},
   "outputs": [
    {
     "data": {
      "text/plain": [
       "35"
      ]
     },
     "execution_count": 104,
     "metadata": {},
     "output_type": "execute_result"
    }
   ],
   "source": [
    "len([x for x in combinations(ascii_uppercase[:7], 4)])"
   ]
  },
  {
   "cell_type": "code",
   "execution_count": 106,
   "metadata": {},
   "outputs": [],
   "source": [
    "# Look at the tool for clipboard history called \"maccy\"\n",
    "# Look at course from \"Desigh Gurus\""
   ]
  },
  {
   "cell_type": "code",
   "execution_count": 128,
   "metadata": {},
   "outputs": [
    {
     "data": {
      "text/plain": [
       "[(0, -1), (0, 1), (1, -1), (1, 1), (2, -1), (2, 1), (3, -1), (3, 1)]"
      ]
     },
     "execution_count": 128,
     "metadata": {},
     "output_type": "execute_result"
    }
   ],
   "source": [
    "[(a, b) for a in range(4) for b in (-1, 1)]"
   ]
  },
  {
   "cell_type": "code",
   "execution_count": 121,
   "metadata": {},
   "outputs": [],
   "source": [
    "from operator import add, sub\n",
    "\n",
    "def update_digit(digits: str, d: int, increment:bool = True) -> str:\n",
    "    # Assumes a 4 digit number in the string\n",
    "    new_digits = list()\n",
    "    for i in range(len(digits)):\n",
    "        digit = digits[i]\n",
    "        if i == d:\n",
    "            op = add if increment else sub\n",
    "            new_digit = op(int(digit), 1) % 10\n",
    "            new_digits.append(str(new_digit))\n",
    "        else:\n",
    "            new_digits.append(digit)\n",
    "\n",
    "    return \"\".join(new_digits)"
   ]
  },
  {
   "cell_type": "code",
   "execution_count": 123,
   "metadata": {},
   "outputs": [
    {
     "data": {
      "text/plain": [
       "'0001'"
      ]
     },
     "execution_count": 123,
     "metadata": {},
     "output_type": "execute_result"
    }
   ],
   "source": [
    "update_digit(\"0000\", 3, True)"
   ]
  },
  {
   "cell_type": "code",
   "execution_count": 124,
   "metadata": {},
   "outputs": [
    {
     "data": {
      "text/plain": [
       "'0009'"
      ]
     },
     "execution_count": 124,
     "metadata": {},
     "output_type": "execute_result"
    }
   ],
   "source": [
    "update_digit(\"0000\", 3, False)"
   ]
  },
  {
   "cell_type": "code",
   "execution_count": 129,
   "metadata": {},
   "outputs": [
    {
     "data": {
      "text/plain": [
       "0"
      ]
     },
     "execution_count": 129,
     "metadata": {},
     "output_type": "execute_result"
    }
   ],
   "source": []
  },
  {
   "cell_type": "code",
   "execution_count": 11,
   "metadata": {},
   "outputs": [
    {
     "name": "stderr",
     "output_type": "stream",
     "text": [
      "100%|██████████| 15/15 [00:00<00:00, 30247.38it/s]"
     ]
    },
    {
     "name": "stdout",
     "output_type": "stream",
     "text": [
      "[7, 6]\n",
      "[7, 6, 7]\n",
      "[18, 0, 0]\n",
      "[18, 0, 0, 0]\n",
      "[18, 0, 0, 0, 8]\n",
      "[18, 0, 0, 0, 8, 6]\n",
      "[18, 0, 0, 0, 8, 6, 8]\n",
      "[18, 0, 0, 0, 8, 6, 8, 7]\n"
     ]
    },
    {
     "name": "stderr",
     "output_type": "stream",
     "text": [
      "\n"
     ]
    }
   ],
   "source": [
    "from tqdm import tqdm\n",
    "\n",
    "hours = [8, 7, 6, 7, 8, 20, 18, 0, 0, 0, 8, 6, 8, 7, 8]\n",
    "answer = []\n",
    "target = 7\n",
    "\n",
    "for start in tqdm(range(len(hours))):\n",
    "    for end in range(start, len(hours)):\n",
    "        sub_array = hours[start:end]\n",
    "        if len(sub_array) == 0:\n",
    "            continue\n",
    "\n",
    "        sub_array_avg = sum(sub_array) / len(sub_array)\n",
    "\n",
    "\n",
    "        if sub_array_avg < target and len(sub_array) >= len(answer):\n",
    "            print(sub_array)\n",
    "            answer = sub_array"
   ]
  },
  {
   "cell_type": "code",
   "execution_count": 12,
   "metadata": {},
   "outputs": [
    {
     "data": {
      "text/plain": [
       "[18, 0, 0, 0, 8, 6, 8, 7]"
      ]
     },
     "execution_count": 12,
     "metadata": {},
     "output_type": "execute_result"
    }
   ],
   "source": [
    "answer"
   ]
  },
  {
   "cell_type": "code",
   "execution_count": 13,
   "metadata": {},
   "outputs": [
    {
     "data": {
      "text/plain": [
       "5.875"
      ]
     },
     "execution_count": 13,
     "metadata": {},
     "output_type": "execute_result"
    }
   ],
   "source": [
    "sum(answer) / len(answer)"
   ]
  },
  {
   "cell_type": "code",
   "execution_count": 18,
   "metadata": {},
   "outputs": [
    {
     "data": {
      "text/plain": [
       "8"
      ]
     },
     "execution_count": 18,
     "metadata": {},
     "output_type": "execute_result"
    }
   ],
   "source": [
    "def longest_work_period_under_hours(hours: list[int], x: int) -> int:\n",
    "    \"\"\"\n",
    "    Return the length of the longest sequence of days with an average hours worked less than x.\n",
    "    \"\"\"\n",
    "    # Solution using indices the same as slice-notation\n",
    "    \n",
    "    left = 0\n",
    "    right = 0\n",
    "    hours_inside_window = 0\n",
    "    answer = 0\n",
    "\n",
    "    while right < len(hours):\n",
    "\n",
    "        # Expand the window, and keep track of what the sum inside that window\n",
    "        hours_inside_window += hours[right]\n",
    "        right += 1\n",
    "\n",
    "        # If the average is now more than the target x, we shrink the window\n",
    "        # until either the average is below x or until the size of the window\n",
    "        # is 0 elements (we don't want to divide by zero)\n",
    "        number_of_days = right - left\n",
    "        while number_of_days > 0 and hours_inside_window / number_of_days > x:\n",
    "            \n",
    "            # Shrink the window by one day\n",
    "            hours_inside_window -= hours[left]\n",
    "            left += 1\n",
    "            number_of_days = right - left\n",
    "\n",
    "        # The loop just above guarantees that at this point we meet the criteria\n",
    "        # of interest: namely and average less than x. So we can update the answer\n",
    "        # with the length of this sub array\n",
    "        answer = max(answer, right - left)\n",
    "\n",
    "    return answer\n",
    "\n",
    "longest_work_period_under_hours(hours, target)"
   ]
  },
  {
   "cell_type": "code",
   "execution_count": null,
   "metadata": {},
   "outputs": [],
   "source": []
  }
 ],
 "metadata": {
  "kernelspec": {
   "display_name": "venv",
   "language": "python",
   "name": "python3"
  },
  "language_info": {
   "codemirror_mode": {
    "name": "ipython",
    "version": 3
   },
   "file_extension": ".py",
   "mimetype": "text/x-python",
   "name": "python",
   "nbconvert_exporter": "python",
   "pygments_lexer": "ipython3",
   "version": "3.11.3"
  }
 },
 "nbformat": 4,
 "nbformat_minor": 2
}
