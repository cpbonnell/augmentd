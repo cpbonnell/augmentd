{
 "cells": [
  {
   "cell_type": "code",
   "execution_count": null,
   "metadata": {},
   "outputs": [],
   "source": []
  },
  {
   "cell_type": "code",
   "execution_count": 1,
   "metadata": {},
   "outputs": [
    {
     "ename": "SyntaxError",
     "evalue": "invalid syntax. Perhaps you forgot a comma? (3322188877.py, line 1)",
     "output_type": "error",
     "traceback": [
      "\u001b[0;36m  Cell \u001b[0;32mIn[1], line 1\u001b[0;36m\u001b[0m\n\u001b[0;31m    arr = [some big array]\u001b[0m\n\u001b[0m           ^\u001b[0m\n\u001b[0;31mSyntaxError\u001b[0m\u001b[0;31m:\u001b[0m invalid syntax. Perhaps you forgot a comma?\n"
     ]
    }
   ],
   "source": [
    "# Find the longest sub-array with a sum less than 25\n",
    "        \n",
    "arr = [2, 3, 7, 5, 10, ....]\n",
    "stay_below_this_sum = 25\n",
    "\n",
    "# Solution\n",
    "longest_found = 0\n",
    "for i in range(len(arr)):\n",
    "    for j in range(i, len(arr)):\n",
    "\n",
    "        sum_of_sub_array = 0\n",
    "        for num in arr[i:j]:\n",
    "            sum_of_sub_array += num\n",
    "\n",
    "        if sum_of_sub_array <= stay_below_this_number:\n",
    "            longest_found = max(longest_found, i - j)\n",
    "        \n",
    "print(longest_found)\n",
    "# O(n^3)\n"
   ]
  },
  {
   "cell_type": "code",
   "execution_count": 2,
   "metadata": {},
   "outputs": [
    {
     "ename": "SyntaxError",
     "evalue": "invalid syntax. Perhaps you forgot a comma? (437644167.py, line 1)",
     "output_type": "error",
     "traceback": [
      "\u001b[0;36m  Cell \u001b[0;32mIn[2], line 1\u001b[0;36m\u001b[0m\n\u001b[0;31m    arr = [some big array]\u001b[0m\n\u001b[0m           ^\u001b[0m\n\u001b[0;31mSyntaxError\u001b[0m\u001b[0;31m:\u001b[0m invalid syntax. Perhaps you forgot a comma?\n"
     ]
    }
   ],
   "source": [
    "# Longest sub array with a sum less than 25\n",
    "\n",
    "# Sliding window\n",
    "arr = [2, 3, 7, 5, 10, ....]\n",
    "stay_below_this_sum = 25\n",
    "\n",
    "# Better Solution\n",
    "left = 0\n",
    "right = 0\n",
    "sum_inside_window = 0\n",
    "longest_found = 0\n",
    "\n",
    "while right < len(arr):\n",
    "\n",
    "    if sum_inside_window <= stay_below_this_number:\n",
    "\n",
    "        length_of_sub_array = right - left\n",
    "        longest_found = max(longest_found, length_of_sub_array)\n",
    "\n",
    "        # Expand the window\n",
    "        #  l[3:7] -> 3, 4, 5, 6 NOT 7\n",
    "        sum_inside_window += arr[right]\n",
    "        right += 1\n",
    "    else:\n",
    "        # Contract the window\n",
    "        sum_inside_window -= arr[left]\n",
    "        left += 1\n",
    "\n",
    "# O(n)\n"
   ]
  },
  {
   "cell_type": "code",
   "execution_count": null,
   "metadata": {},
   "outputs": [],
   "source": []
  },
  {
   "cell_type": "markdown",
   "metadata": {},
   "source": [
    "## Problem 4\n",
    "Augment'd recently rolled out a new playlist feature. Fans can listen to an automatically generated playlist of songs based on the musicians they have followed. Jay has decided that he wants to measure the success of this feature with a key performance metric of \"most songs listened to with at most some number of skips.\" He hasn't yet decided what \"some number\" should be, though.\n",
    "\n",
    "You are tasked with writing a function that accepts a list of binary values named `statuses`. The value of `statuses[i]` will be 1 if the user finished the track, and 0 if the user pressed skip for the track. Your function should return the length of the longest array of tracks the user listened to that contains at most `k` skips. Skipped tracks still count toward the length of the array."
   ]
  },
  {
   "cell_type": "code",
   "execution_count": 5,
   "metadata": {},
   "outputs": [],
   "source": [
    "def longest_array(statuses: list[bool], max_skips: int) -> int:\n",
    "    \n",
    "    number_of_skips = 0 \n",
    "    longest_found = 0\n",
    "    left = 0\n",
    "    right = 0\n",
    "\n",
    "    while right < len(statuses):\n",
    "        if number_of_skips <= max_skips: \n",
    "            # Grow the right\n",
    "\n",
    "            current_array_length = right - left\n",
    "            longest_found = max(longest_found, current_array_length)\n",
    "\n",
    "            if statuses[right] is False:\n",
    "                number_of_skips += 1\n",
    "\n",
    "            right += 1\n",
    "\n",
    "        else:\n",
    "            if statuses[left] is False:\n",
    "                number_of_skips -= 1 \n",
    "                \n",
    "            left += 1\n",
    "\n",
    "    return longest_found "
   ]
  },
  {
   "cell_type": "code",
   "execution_count": 8,
   "metadata": {},
   "outputs": [
    {
     "name": "stdout",
     "output_type": "stream",
     "text": [
      "Answer is 6, your answer: 10\n",
      "Answer is 10, your answer: 18\n"
     ]
    }
   ],
   "source": [
    "statuses = [1,1,1,0,0,0,1,1,1,1,0]\n",
    "k = 2\n",
    "answer = 6\n",
    "print(f\"Answer is {answer}, your answer: {longest_array(statuses, k)}\")\n",
    "# [1,1,1,0,0,0,1,1,1,1,0]\n",
    "#            -----------\n",
    "\n",
    "\n",
    "statuses = [0,0,1,1,0,0,1,1,1,0,1,1,0,0,0,1,1,1,1]\n",
    "k = 3\n",
    "answer = 10\n",
    "print(f\"Answer is {answer}, your answer: {longest_array(statuses, k)}\")\n",
    "# [0,0,1,1,0,0,1,1,1,0,1,1,0,0,0,1,1,1,1]\n",
    "#      -------------------"
   ]
  },
  {
   "cell_type": "markdown",
   "metadata": {},
   "source": [
    "## Problem 5\n",
    "Alejandro is working on a ranking system that recommends songs based on the guitar solo in that song. He needs you to write a function that identifies the longes riff in the guitar solo that does not contain any repeated chords.\n",
    "\n",
    "For the sake of this task, all voicings and inversions of a chord are to be considered the same chord, but single notes are not considered a chord. To be considered a chord, the cluster of notes must have at least two distinct notes named. So \"Eb G Bb D\" and \"Eb Eb D G Bb\" are both considered the same chord (Ebmaj7), but \"D\" is not a chord, and neither is \"D D\" or \"D D D\". You may also assume that a song will always use the same notation for every note (e.g. a given song may use \"Ab\" or \"G#\", but never both)."
   ]
  },
  {
   "cell_type": "code",
   "execution_count": 9,
   "metadata": {},
   "outputs": [
    {
     "ename": "NameError",
     "evalue": "name 'longest_riff' is not defined",
     "output_type": "error",
     "traceback": [
      "\u001b[0;31m---------------------------------------------------------------------------\u001b[0m",
      "\u001b[0;31mNameError\u001b[0m                                 Traceback (most recent call last)",
      "Cell \u001b[0;32mIn[9], line 3\u001b[0m\n\u001b[1;32m      1\u001b[0m song \u001b[38;5;241m=\u001b[39m [\u001b[38;5;124m\"\u001b[39m\u001b[38;5;124mEb Eb D G Bb\u001b[39m\u001b[38;5;124m\"\u001b[39m, \u001b[38;5;124m\"\u001b[39m\u001b[38;5;124mG\u001b[39m\u001b[38;5;124m\"\u001b[39m, \u001b[38;5;124m\"\u001b[39m\u001b[38;5;124mD\u001b[39m\u001b[38;5;124m\"\u001b[39m, \u001b[38;5;124m\"\u001b[39m\u001b[38;5;124mG\u001b[39m\u001b[38;5;124m\"\u001b[39m, \u001b[38;5;124m\"\u001b[39m\u001b[38;5;124mD\u001b[39m\u001b[38;5;124m\"\u001b[39m, \u001b[38;5;124m\"\u001b[39m\u001b[38;5;124mEb F Ab C Eb\u001b[39m\u001b[38;5;124m\"\u001b[39m, \u001b[38;5;124m\"\u001b[39m\u001b[38;5;124mF\u001b[39m\u001b[38;5;124m\"\u001b[39m, \u001b[38;5;124m\"\u001b[39m\u001b[38;5;124mC\u001b[39m\u001b[38;5;124m\"\u001b[39m, \u001b[38;5;124m\"\u001b[39m\u001b[38;5;124mG Eb D Bb\u001b[39m\u001b[38;5;124m\"\u001b[39m, \u001b[38;5;124m\"\u001b[39m\u001b[38;5;124mG\u001b[39m\u001b[38;5;124m\"\u001b[39m, \u001b[38;5;124m\"\u001b[39m\u001b[38;5;124mD\u001b[39m\u001b[38;5;124m\"\u001b[39m, \u001b[38;5;124m\"\u001b[39m\u001b[38;5;124mEb\u001b[39m\u001b[38;5;124m\"\u001b[39m, \u001b[38;5;124m\"\u001b[39m\u001b[38;5;124mBb\u001b[39m\u001b[38;5;124m\"\u001b[39m]\n\u001b[1;32m      2\u001b[0m answer \u001b[38;5;241m=\u001b[39m \u001b[38;5;241m9\u001b[39m\n\u001b[0;32m----> 3\u001b[0m \u001b[38;5;28mprint\u001b[39m(\u001b[38;5;124mf\u001b[39m\u001b[38;5;124m\"\u001b[39m\u001b[38;5;124mThe correct answer is \u001b[39m\u001b[38;5;132;01m{\u001b[39;00manswer\u001b[38;5;132;01m}\u001b[39;00m\u001b[38;5;124m, your answer is \u001b[39m\u001b[38;5;132;01m{\u001b[39;00m\u001b[43mlongest_riff\u001b[49m(song)\u001b[38;5;132;01m}\u001b[39;00m\u001b[38;5;124m\"\u001b[39m)\n",
      "\u001b[0;31mNameError\u001b[0m: name 'longest_riff' is not defined"
     ]
    }
   ],
   "source": [
    "song = [\"Eb Eb D G Bb\", \"G\", \"D\", \"G\", \"D\", \"Eb F Ab C Eb\", \"F\", \"C\", \"G Eb D Bb\", \"G\", \"D\", \"Eb\", \"Bb\"]\n",
    "answer = 9\n",
    "print(f\"The correct answer is {answer}, your answer is {longest_riff(song)}\")"
   ]
  },
  {
   "cell_type": "code",
   "execution_count": null,
   "metadata": {},
   "outputs": [],
   "source": []
  }
 ],
 "metadata": {
  "kernelspec": {
   "display_name": "Python 3",
   "language": "python",
   "name": "python3"
  },
  "language_info": {
   "codemirror_mode": {
    "name": "ipython",
    "version": 3
   },
   "file_extension": ".py",
   "mimetype": "text/x-python",
   "name": "python",
   "nbconvert_exporter": "python",
   "pygments_lexer": "ipython3",
   "version": "3.12.2"
  }
 },
 "nbformat": 4,
 "nbformat_minor": 2
}
