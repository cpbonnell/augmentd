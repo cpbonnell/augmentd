{
 "cells": [
  {
   "cell_type": "code",
   "execution_count": null,
   "metadata": {},
   "outputs": [],
   "source": []
  },
  {
   "cell_type": "code",
   "execution_count": null,
   "metadata": {},
   "outputs": [],
   "source": []
  },
  {
   "cell_type": "markdown",
   "metadata": {},
   "source": [
    "## Problem Context\n",
    "Alejandro has just finished work on a project for Jay. Jay is worried that with the odd office hours everyone keeps, they might not always put in the full time hours they are getting paid for. But he doesn't want to mandate strict daily hours, because sometimes he wants people to work more than 8 hours in a day. So he had Alejandro put together a dashboard where he can monitor the average hours everyone works.\n",
    "\n",
    "Alejandro wrote a function that takes a list of integers named `hours`, where `hours[i]` indicates the number of hours that a the employee worked on that day. The function returns an integer indicating the greatest number of contiguous work days that someone has gone where the average number of hours per day is less than x. If there is no such sequence of days, return 0.\n",
    "\n",
    "Alejandro would like you to `Peer Review` his function before it gets merged to the codebase."
   ]
  },
  {
   "cell_type": "code",
   "execution_count": null,
   "metadata": {},
   "outputs": [],
   "source": [
    "def longest_work_period_under_hours(hours: list[int], x: int) -> int:\n",
    "    \"\"\"\n",
    "    Return the length of the longest sequence of days with an average hours worked less than x.\n",
    "    \"\"\"\n",
    "    # Note: I am using python slice-notation style indices for this function.\n",
    "    \n",
    "    left = 0\n",
    "    right = 0\n",
    "    hours_inside_window = 0\n",
    "    answer = 0\n",
    "\n",
    "    while right < len(hours):\n",
    "\n",
    "        # Expand the window, and keep track of what the sum inside that window\n",
    "        hours_inside_window += hours[right]\n",
    "        right += 1\n",
    "\n",
    "        # If the average is now more than the target x, we shrink the window\n",
    "        # until either the average is below x or until the size of the window\n",
    "        # is 0 elements (we don't want to divide by zero)\n",
    "        number_of_days = right - left\n",
    "        while number_of_days > 0 and hours_inside_window / number_of_days > x:  # Amortized\n",
    "            \n",
    "            # Shrink the window by one day\n",
    "            hours_inside_window -= hours[left]\n",
    "            left += 1\n",
    "            number_of_days = right - left\n",
    "\n",
    "        # The loop just above guarantees that at this point we meet the criteria\n",
    "        # of interest: namely and average less than x. So we can update the answer\n",
    "        # with the length of this sub array\n",
    "        answer = max(answer, right - left)\n",
    " \n",
    "    return answer"
   ]
  },
  {
   "cell_type": "code",
   "execution_count": null,
   "metadata": {},
   "outputs": [],
   "source": [
    "hours = [9, 7, 9, 9, 9]\n",
    "x = 8\n",
    "answer = 1\n",
    "# Explanation: The largest subsequence of days with an average value less than 8\n",
    "# is just the subsequence [7]. If we include one of the surrounding days, like [9, 7]\n",
    "# or [7, 9] then the average across the two day is 8.\n",
    "\n",
    "\n",
    "hours = [8, 7, 6, 7, 8, 20, 18, 0, 0, 0, 8, 6, 8, 7, 8]\n",
    "x = 7\n",
    "answer = 8\n",
    "# Explanation: In this case we have 3 weeks Jean Pierre's work. The first is fairly typical.\n",
    "# He kicks off the second week with a two day cocaine bender, from which it takes him the\n",
    "# rest of the week to recover. Then he is back to a typical person's schedule the week after\n",
    "# that, but the average has tanked to the point where it never gets back above 7.\n",
    "# So the longest subsequence with an average below 7 is [18, 0, 0, 0, 8, 6, 8, 7]"
   ]
  },
  {
   "cell_type": "code",
   "execution_count": null,
   "metadata": {},
   "outputs": [],
   "source": []
  }
 ],
 "metadata": {
  "kernelspec": {
   "display_name": "Python 3",
   "language": "python",
   "name": "python3"
  },
  "language_info": {
   "codemirror_mode": {
    "name": "ipython",
    "version": 3
   },
   "file_extension": ".py",
   "mimetype": "text/x-python",
   "name": "python",
   "nbconvert_exporter": "python",
   "pygments_lexer": "ipython3",
   "version": "3.12.2"
  }
 },
 "nbformat": 4,
 "nbformat_minor": 2
}
