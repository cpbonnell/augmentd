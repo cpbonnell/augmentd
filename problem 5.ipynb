{
 "cells": [
  {
   "cell_type": "code",
   "execution_count": 1,
   "metadata": {},
   "outputs": [],
   "source": [
    "from collections import defaultdict"
   ]
  },
  {
   "cell_type": "code",
   "execution_count": 2,
   "metadata": {},
   "outputs": [
    {
     "data": {
      "text/plain": [
       "0"
      ]
     },
     "execution_count": 2,
     "metadata": {},
     "output_type": "execute_result"
    }
   ],
   "source": [
    "foo = defaultdict(int)\n",
    "\n",
    "foo[\"a\"]"
   ]
  },
  {
   "cell_type": "markdown",
   "metadata": {},
   "source": [
    "Alejandro is quite pleased with the work you did for ticket AGM-101. He says that the chord percentage feature has been quite well recieved! But now there is actually been some requests to take the chord breakdown a bit farther. Now, Jay wants a screen in the mobile app where a user can click on any given song, and see a breakdown of every unique chord used in the song, and how often it occurs. Alejandro has tried a solution where he calls your function from AGM-101 multiple times per song to get a number for every imaginable chord, but it takes far too long so he wants you to write a new function.\n",
    "\n",
    "Franchesca has helpfully pointed out that this kind of chart is known as a \"Histogram.\" But Jay doesn't see what it has to do with history, so he has decided to brand this specific screen as a the \"Augment'd Song DNA Breakdown,\" and had the attorney file trademark paperwork.\n",
    "\n",
    "Your task is to write a function that takes in a song (i.e. a list of strings indicating the notes being played), and returns a dictionary with unique chords as the keys. The value associated with each key should be the number of times that chord occurs in the song.\n"
   ]
  },
  {
   "cell_type": "code",
   "execution_count": 6,
   "metadata": {},
   "outputs": [
    {
     "data": {
      "text/plain": [
       "'B G'"
      ]
     },
     "execution_count": 6,
     "metadata": {},
     "output_type": "execute_result"
    }
   ],
   "source": [
    "\" \".join([\"B\", \"G\"])"
   ]
  },
  {
   "cell_type": "code",
   "execution_count": 10,
   "metadata": {},
   "outputs": [
    {
     "data": {
      "text/plain": [
       "['Bb', 'D', 'Eb', 'G']"
      ]
     },
     "execution_count": 10,
     "metadata": {},
     "output_type": "execute_result"
    }
   ],
   "source": [
    "sorted(set(\"Eb Eb D G Bb\".split()))"
   ]
  },
  {
   "cell_type": "code",
   "execution_count": 1,
   "metadata": {},
   "outputs": [],
   "source": [
    "a = \"Eb Eb D G Bb\"\n",
    "b = \"Bb D Eb G\"\n",
    "# Return a string with each distinct not ONLY ONCE, \n",
    "# and put in alphabetical order\n",
    "\n",
    "\n",
    "def unvoiced_chord(chord: str) -> str:\n",
    "    unvoiced_set = sorted(set(chord.split()))\n",
    "    unvoiced_str = \" \".join(unvoiced_set)\n",
    "    return unvoiced_str"
   ]
  },
  {
   "cell_type": "code",
   "execution_count": 2,
   "metadata": {},
   "outputs": [
    {
     "data": {
      "text/plain": [
       "'Bb D Eb G'"
      ]
     },
     "execution_count": 2,
     "metadata": {},
     "output_type": "execute_result"
    }
   ],
   "source": [
    "unvoiced_chord(a)"
   ]
  },
  {
   "cell_type": "code",
   "execution_count": 19,
   "metadata": {},
   "outputs": [
    {
     "data": {
      "text/plain": [
       "False"
      ]
     },
     "execution_count": 19,
     "metadata": {},
     "output_type": "execute_result"
    }
   ],
   "source": [
    "d = {}\n",
    "d[\"a\"] = 3\n",
    "d[\"b\"] = 0\n",
    "\n",
    "d[\"a\"] += 1\n",
    "\n",
    "\"a\" not in d\n"
   ]
  },
  {
   "cell_type": "code",
   "execution_count": 25,
   "metadata": {},
   "outputs": [],
   "source": [
    "# dict mapping unvoiced chord to the number of times it shows up\n",
    "def count_for_every_unique_chord(song: list[str]) -> dict[str, int]:\n",
    "    occ_count = {}\n",
    "    \n",
    "    for chord in song: \n",
    "        actual_chord = unvoiced_chord(chord)\n",
    "        if actual_chord not in occ_count:\n",
    "            occ_count[actual_chord] = 1\n",
    "        else: \n",
    "            occ_count[actual_chord] += 1\n",
    "\n",
    "    return occ_count\n"
   ]
  },
  {
   "cell_type": "code",
   "execution_count": 23,
   "metadata": {},
   "outputs": [
    {
     "data": {
      "text/plain": [
       "{'Bb D Eb G': 2,\n",
       " 'G': 3,\n",
       " 'D': 3,\n",
       " 'Ab C Eb F': 1,\n",
       " 'F': 1,\n",
       " 'C': 1,\n",
       " 'Eb': 1,\n",
       " 'Bb': 1}"
      ]
     },
     "execution_count": 23,
     "metadata": {},
     "output_type": "execute_result"
    }
   ],
   "source": [
    "song = [\"Eb Eb D G Bb\", \"G\", \"D\", \"G\", \"D\", \"Eb F Ab C Eb\", \"F\", \"C\", \"G Eb D Bb\", \"G\", \"D\", \"Eb\", \"Bb\"]\n",
    "count_for_every_unique_chord(song)"
   ]
  },
  {
   "cell_type": "code",
   "execution_count": 5,
   "metadata": {},
   "outputs": [
    {
     "data": {
      "text/plain": [
       "['Eb', 'Eb', 'D', 'G', 'Bb']"
      ]
     },
     "execution_count": 5,
     "metadata": {},
     "output_type": "execute_result"
    }
   ],
   "source": [
    "c = \"Eb Eb D G Bb\"\n",
    "c.split()"
   ]
  },
  {
   "cell_type": "code",
   "execution_count": null,
   "metadata": {},
   "outputs": [],
   "source": []
  }
 ],
 "metadata": {
  "kernelspec": {
   "display_name": "Python 3",
   "language": "python",
   "name": "python3"
  },
  "language_info": {
   "codemirror_mode": {
    "name": "ipython",
    "version": 3
   },
   "file_extension": ".py",
   "mimetype": "text/x-python",
   "name": "python",
   "nbconvert_exporter": "python",
   "pygments_lexer": "ipython3",
   "version": "3.12.2"
  }
 },
 "nbformat": 4,
 "nbformat_minor": 2
}
