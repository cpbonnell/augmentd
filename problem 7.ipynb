{
 "cells": [
  {
   "cell_type": "code",
   "execution_count": null,
   "metadata": {},
   "outputs": [],
   "source": [
    "s = set()\n",
    "s.add(3)\n",
    "s.add(6)\n",
    "s.remove(3)"
   ]
  },
  {
   "cell_type": "markdown",
   "metadata": {},
   "source": [
    "## Problem Context\n",
    "Alejandro is working on a ranking system that recommends songs based on the guitar solo in that song. He needs you to write a function that identifies the longes riff in the guitar solo that does not contain any repeated chords.\n",
    "\n",
    "For the sake of this task, all voicings and inversions of a chord are to be considered the same chord, but single notes are not considered a chord. To be considered a chord, the cluster of notes must have at least two distinct notes named. So \"Eb G Bb D\" and \"Eb Eb D G Bb\" are both considered the same chord (Ebmaj7), but \"D\" is not a chord, and neither is \"D D\" or \"D D D\". You may also assume that a song will always use the same notation for every note (e.g. a given song may use \"Ab\" or \"G#\", but never both)."
   ]
  },
  {
   "cell_type": "code",
   "execution_count": null,
   "metadata": {},
   "outputs": [],
   "source": [
    "def longest_riff(song: list[str]) -> int:\n",
    "    pass"
   ]
  },
  {
   "cell_type": "code",
   "execution_count": null,
   "metadata": {},
   "outputs": [],
   "source": [
    "song = [\"Eb Eb D G Bb\", \"G\", \"D\", \"G\", \"D\", \"Eb F Ab C Eb\", \"F\", \"C\", \"G Eb D Bb\", \"G\", \"D\", \"Eb\", \"Bb\"]\n",
    "answer = 9\n",
    "print(f\"The correct answer is {answer}, your answer is {longest_riff(song)}\")"
   ]
  }
 ],
 "metadata": {
  "kernelspec": {
   "display_name": "Python 3",
   "language": "python",
   "name": "python3"
  },
  "language_info": {
   "codemirror_mode": {
    "name": "ipython",
    "version": 3
   },
   "file_extension": ".py",
   "mimetype": "text/x-python",
   "name": "python",
   "nbconvert_exporter": "python",
   "pygments_lexer": "ipython3",
   "version": "3.12.2"
  }
 },
 "nbformat": 4,
 "nbformat_minor": 2
}
