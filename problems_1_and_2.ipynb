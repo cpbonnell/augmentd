{
 "cells": [
  {
   "cell_type": "code",
   "execution_count": null,
   "metadata": {},
   "outputs": [],
   "source": [
    "foo = list()\n",
    "foo.append(\"A\")\n",
    "foo.append(\"E\")\n",
    "\n",
    "foo"
   ]
  },
  {
   "cell_type": "code",
   "execution_count": null,
   "metadata": {},
   "outputs": [],
   "source": [
    "item = foo.pop()\n",
    "item"
   ]
  },
  {
   "cell_type": "code",
   "execution_count": null,
   "metadata": {},
   "outputs": [],
   "source": [
    "foo"
   ]
  },
  {
   "cell_type": "code",
   "execution_count": null,
   "metadata": {},
   "outputs": [],
   "source": [
    "bar = set()\n",
    "bar.add(\"A\")\n",
    "bar.add(\"A\")\n",
    "bar.add(\"A\")\n",
    "bar.add(\"B\")\n",
    "\n",
    "bar"
   ]
  },
  {
   "cell_type": "code",
   "execution_count": null,
   "metadata": {},
   "outputs": [],
   "source": [
    "l = [\"A\", \"B\"]\n",
    "bar2 = set(l)\n",
    "bar2"
   ]
  },
  {
   "cell_type": "code",
   "execution_count": null,
   "metadata": {},
   "outputs": [],
   "source": [
    "bar == bar2"
   ]
  },
  {
   "cell_type": "code",
   "execution_count": null,
   "metadata": {},
   "outputs": [],
   "source": [
    "\"B\" in foo"
   ]
  },
  {
   "cell_type": "code",
   "execution_count": null,
   "metadata": {},
   "outputs": [],
   "source": [
    "\"B\" in bar"
   ]
  },
  {
   "cell_type": "code",
   "execution_count": null,
   "metadata": {},
   "outputs": [],
   "source": [
    "e_flat_maj = \"Eb G Bb D\"\n",
    "e_flat_notes = e_flat_maj.split()\n",
    "set(e_flat_notes)"
   ]
  },
  {
   "cell_type": "code",
   "execution_count": null,
   "metadata": {},
   "outputs": [],
   "source": [
    "major_seven = {1, 3, 5, 7}\n",
    "minor_seven = {1, -3, 5, -7}\n",
    "\n",
    "c_major = {\"C\", \"D\", \"E\", \"F\", \"G\", \"A\", \"B\"} \n"
   ]
  },
  {
   "cell_type": "code",
   "execution_count": null,
   "metadata": {},
   "outputs": [],
   "source": []
  },
  {
   "cell_type": "markdown",
   "metadata": {},
   "source": [
    "## Problem\n",
    "Alejandro is working on a feature for the mobile app where users can filter for songs based on a specific chord. He wants to have one control where users can specify the notes of the chord, and another where they specify a percent. He will then filter songs to only look at those songs that have at least that percent of the song is that chord.\n",
    "\n",
    "He would like you to write a function that he can use on the backend. You will be given a target chord (for example, \"F A C E\"), and a song (which will be a list of chords), and returns a number that is the count of how many times that chord shows up in the song. Then he can have the UI calculate the percentages directly.\n",
    "\n",
    "For the sake of this feature, Alejandro says that all inversions of a chord and all voicings of a chord count as the same chord, but he does NOT want to consider extended chords to be the same. So \"C E G\" and \"C E G B\" are different, but \"F A C E\" and \"F C F A E\" are the same. Notes that are flatted or sharped will be denoted with a \"b\" or \"#\" respectively, and you may assume that a given song will never use two notations for the same note (that is, a song will either use \"A#\" or \"Bb\", but never both). Jean Pierre has also specified that every unique set of notes is to be considered a \"chord\", no matter how unconventional it is.\n",
    "\n",
    "\n",
    "**Example:**\n",
    "target = \"F A C E\"\n",
    "song = [\"F C A E\", \"F C F A C E\", \"F F F\", \"A C E\"]\n",
    "\n",
    "Answer: 2\n",
    "Reason: FFF and ACE do not have all the notes of Fmaj7, so they do not count. But\n",
    "the first two chords do.\n",
    "\n",
    "**Example:**\n",
    "target = \"A C E\"\n",
    "song = [\"C A E\", \"C A C E\", \"A C E G\"]\n",
    "\n",
    "Answer: 2\n",
    "Reason: The first two chords of the song have all the required notes for the target\n",
    "chord, but the last chord of the song contains the note G, which is not part of Adim.\n"
   ]
  },
  {
   "cell_type": "code",
   "execution_count": null,
   "metadata": {},
   "outputs": [],
   "source": [
    "def count_target_chord(target: str, song: list[str]) -> int:\n",
    "    ### set(my_str) of set(my_list)\n",
    "    target_set = set(target.split())\n",
    "    count = 0\n",
    "    \n",
    "    for chord in song: \n",
    "        \n",
    "        chord_set = set(chord.split())\n",
    "        if chord_set == target_set: \n",
    "            count += 1 \n",
    "    return count \n",
    "\n",
    "    "
   ]
  },
  {
   "cell_type": "code",
   "execution_count": null,
   "metadata": {},
   "outputs": [],
   "source": [
    "target = \"F A C E\"\n",
    "song = [\"F C A E\", \"F C F A C E\", \"F F F\", \"A C E\"]\n",
    "answer = 2\n",
    "your_answer = count_target_chord(target, song)\n",
    "print(f\"The correct answer is {answer}, and your answer is {your_answer}\")\n",
    "\n",
    "target = \"A C E\"\n",
    "song = [\"C A E\", \"C A C E\", \"A C E G\"]\n",
    "answer = 2\n",
    "your_answer = count_target_chord(target, song)\n",
    "print(f\"The correct answer is {answer}, and your answer is {your_answer}\")"
   ]
  },
  {
   "cell_type": "code",
   "execution_count": null,
   "metadata": {},
   "outputs": [],
   "source": []
  },
  {
   "cell_type": "code",
   "execution_count": null,
   "metadata": {},
   "outputs": [],
   "source": [
    "c = [\"G\", \"C\", \"E\"]\n",
    "c = sorted(c)\n",
    "c"
   ]
  },
  {
   "cell_type": "code",
   "execution_count": null,
   "metadata": {},
   "outputs": [],
   "source": [
    "\" \".join(c)"
   ]
  },
  {
   "cell_type": "code",
   "execution_count": null,
   "metadata": {},
   "outputs": [],
   "source": [
    "len(c)"
   ]
  },
  {
   "cell_type": "code",
   "execution_count": null,
   "metadata": {},
   "outputs": [],
   "source": []
  },
  {
   "cell_type": "markdown",
   "metadata": {},
   "source": [
    "## Problem 2\n",
    "Franchesca, the resident data scientist, is working on a model to try and predict how \"jazzy\" a song is. She has heard from Jean Pierre that Jazz songs have more chords in them than \"normal\" songs, and so she wants to feed \"number of unique chords\" into her model as a feature. Your task is to write a function that will take a list of the note clusters played in a song, and returns the number of distinct chords present in that song.\n",
    "\n",
    "For the sake of this feature, Franchesca says that all inversions of a chord and all voicings of a chord count as the same chord, but she does NOT want to consider extended chords to be the same. So \"C E G\" and \"C E G B\" are different, but \"F A C E\" and \"F C F A E\" are the same. Notes that are flatted or sharped will be denoted with a \"b\" or \"#\" respectively, and you may assume that a given song will never use two notations for the same note (that is, a song will either use \"A#\" or \"Bb\", but never both).\n",
    "\n",
    "Example:\n",
    "song = [\"F A C E\", \"F C F A C E\", \"A C E\", \"F A C E G#\"]\n",
    "\n",
    "Answer: 3\n",
    "\n",
    "Reason: The first two chords are the same, since they contain the exact same notes\n",
    "even if they are in a different order or different quantity. But \"A C E\" is missing\n",
    "the root, F, and the last chord has an added sharp 9, so we don't consider those to\n",
    "be the same chord.\n"
   ]
  },
  {
   "cell_type": "code",
   "execution_count": null,
   "metadata": {},
   "outputs": [],
   "source": []
  },
  {
   "cell_type": "code",
   "execution_count": null,
   "metadata": {},
   "outputs": [],
   "source": [
    "#max's solution \n",
    "\n",
    "def count_of_unique_chords(song: list[str]) -> int:\n",
    "    ## len(), .join(), sorted(), set(), .split()\n",
    "    chord_list = []\n",
    "    final_set = {}\n",
    "\n",
    "    for chord in song: \n",
    "        chord_set = set(chord.split())\n",
    "        chord_sorted_list = sorted(chord_set)\n",
    "        chord_string = \"\".join(chord_sorted_list)\n",
    "        chord_list.append(chord_string)\n",
    "    \n",
    "    final_set = set(chord_list)\n",
    "    total_unique = len(final_set)\n",
    "\n",
    "    return total_unique "
   ]
  },
  {
   "cell_type": "code",
   "execution_count": null,
   "metadata": {},
   "outputs": [],
   "source": [
    "#christian's optimization using .add func w/ a set (instead of using a list then converting it all)\n",
    "\n",
    "def count_of_unique_chords_2(song: list[str]) -> int:\n",
    "    ## len(), .join(), sorted(), set(), .split()\n",
    "    final_set ={}\n",
    "\n",
    "    for chord in song: \n",
    "        chord_set = set(chord.split())\n",
    "        chord_sorted_list = sorted(chord_set)\n",
    "        chord_string = \"\".join(chord_sorted_list)\n",
    "        # chord_list.append(chord_string)\n",
    "        final_set.add(chord_string)\n",
    "    \n",
    "    total_unique = len(final_set)\n",
    "\n",
    "    return total_unique "
   ]
  },
  {
   "cell_type": "code",
   "execution_count": null,
   "metadata": {},
   "outputs": [],
   "source": [
    "count_of_unique_chords([\"F A C E\", \"F C F A C E\", \"A C E\", \"F A C E G#\"])"
   ]
  },
  {
   "cell_type": "code",
   "execution_count": null,
   "metadata": {},
   "outputs": [],
   "source": [
    "count_of_unique_chords([\"F A C Eb\", \"F C F Ab C Eb\", \"A C E G\", \"A C E G#\", \"Eb F C A\", \"Eb Ab C F\"])"
   ]
  },
  {
   "cell_type": "code",
   "execution_count": null,
   "metadata": {},
   "outputs": [],
   "source": [
    "# List (string)\n",
    "# Set\n",
    "\n",
    "# List: append() pop()"
   ]
  },
  {
   "cell_type": "code",
   "execution_count": null,
   "metadata": {},
   "outputs": [],
   "source": []
  }
 ],
 "metadata": {
  "kernelspec": {
   "display_name": "Python 3",
   "language": "python",
   "name": "python3"
  },
  "language_info": {
   "codemirror_mode": {
    "name": "ipython",
    "version": 3
   },
   "file_extension": ".py",
   "mimetype": "text/x-python",
   "name": "python",
   "nbconvert_exporter": "python",
   "pygments_lexer": "ipython3",
   "version": "3.12.2"
  }
 },
 "nbformat": 4,
 "nbformat_minor": 2
}
