{
 "cells": [
  {
   "cell_type": "markdown",
   "metadata": {},
   "source": []
  },
  {
   "cell_type": "code",
   "execution_count": null,
   "metadata": {},
   "outputs": [],
   "source": [
    "from string import ascii_uppercase\n",
    "from utilities import white_keys"
   ]
  },
  {
   "cell_type": "code",
   "execution_count": null,
   "metadata": {},
   "outputs": [],
   "source": [
    "NOTES_WITH_NO_SHARP = [\"B\", \"E\"]\n",
    "NOTES_WITH_NO_FLAT = [\"C\", \"F\"]\n",
    "SHARP_SYMBOL = \"#\"\n",
    "FLAT_SYMBOL = \"b\""
   ]
  },
  {
   "cell_type": "code",
   "execution_count": null,
   "metadata": {},
   "outputs": [],
   "source": [
    "[x for x in white_keys() if x not in NOTES_WITH_NO_SHARP]\n",
    "\n"
   ]
  },
  {
   "cell_type": "code",
   "execution_count": null,
   "metadata": {},
   "outputs": [],
   "source": [
    "notes = white_keys()\n",
    "# notes.remove(\"C\")\n",
    "\n",
    "for i in NOTES_WITH_NO_FLAT:\n",
    "    notes.remove(i)\n",
    "\n",
    "notes"
   ]
  },
  {
   "cell_type": "markdown",
   "metadata": {},
   "source": [
    "does the interval contain a note that has a b or # or not? \n",
    "generate list of the scale between the notes \n",
    "measure the length of the list \n",
    "\n",
    "\n",
    "Given the interval, determine if the list of white notes between the interval contains (note w/o flats or sharps)\n",
    "assume that number of steps = len(white_keys)[between interval] - ( n keys w/o flats/sharps )\n",
    "\n",
    "length = 2*notes i.e. assume that they're whole steps \n",
    "\n",
    "===========\n",
    "C, G"
   ]
  },
  {
   "cell_type": "code",
   "execution_count": 1,
   "metadata": {},
   "outputs": [
    {
     "data": {
      "text/plain": [
       "['B', 'Bb']"
      ]
     },
     "execution_count": 1,
     "metadata": {},
     "output_type": "execute_result"
    }
   ],
   "source": [
    "sorted([\"Bb\", \"B\"])"
   ]
  },
  {
   "cell_type": "code",
   "execution_count": 2,
   "metadata": {},
   "outputs": [
    {
     "data": {
      "text/plain": [
       "['C', 'C#']"
      ]
     },
     "execution_count": 2,
     "metadata": {},
     "output_type": "execute_result"
    }
   ],
   "source": [
    "sorted([\"C\", \"C#\"])"
   ]
  },
  {
   "cell_type": "markdown",
   "metadata": {},
   "source": [
    "C, G"
   ]
  },
  {
   "cell_type": "markdown",
   "metadata": {},
   "source": []
  }
 ],
 "metadata": {
  "kernelspec": {
   "display_name": "Python 3",
   "language": "python",
   "name": "python3"
  },
  "language_info": {
   "codemirror_mode": {
    "name": "ipython",
    "version": 3
   },
   "file_extension": ".py",
   "mimetype": "text/x-python",
   "name": "python",
   "nbconvert_exporter": "python",
   "pygments_lexer": "ipython3",
   "version": "3.12.2"
  }
 },
 "nbformat": 4,
 "nbformat_minor": 2
}
