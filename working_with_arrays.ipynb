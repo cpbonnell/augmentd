{
 "cells": [
  {
   "cell_type": "code",
   "execution_count": 11,
   "metadata": {},
   "outputs": [],
   "source": [
    "# [x] Index versus value\n",
    "# [x] Inclusive vs Exclusive indices\n",
    "# [x] Subarray, Subsequence, Lengths\n",
    "# [x] Creative use of loops\n",
    "# [x] The \"swap\" operation\n",
    "# [x] Find, insert"
   ]
  },
  {
   "cell_type": "code",
   "execution_count": 12,
   "metadata": {},
   "outputs": [
    {
     "data": {
      "text/plain": [
       "[5, 7]"
      ]
     },
     "execution_count": 12,
     "metadata": {},
     "output_type": "execute_result"
    }
   ],
   "source": [
    "foo = [1, 3, 5, 7, 13, 15, 17]\n",
    "foo[2:4] # Non Inclusive (index 2, 3, but not 4)\n",
    "# df.loc[2:4, :]   (index 2, 3, 4)"
   ]
  },
  {
   "cell_type": "code",
   "execution_count": 13,
   "metadata": {},
   "outputs": [],
   "source": [
    "i = 2\n",
    "j = 7\n",
    "arr = [1, 3, 13, 7, 2, 15, 5, 8, 20]\n",
    "\n",
    "# Swap element i and element j\n",
    "temp = arr[i]\n",
    "arr[i] = arr[j]\n",
    "arr[j] = temp\n"
   ]
  },
  {
   "cell_type": "code",
   "execution_count": 14,
   "metadata": {},
   "outputs": [
    {
     "name": "stdout",
     "output_type": "stream",
     "text": [
      "[2, 3]\n",
      "[3, 2]\n"
     ]
    }
   ],
   "source": [
    "i = 3\n",
    "j = 2\n",
    "\n",
    "arr =[0, 1, 2, 3, 4] # indices are clear \n",
    "\n",
    "print(arr[2:4])\n",
    "\n",
    "# temp = arr[i]\n",
    "# arr[i] = arr[j]\n",
    "# arr[j] = temp \n",
    "\n",
    "temp = arr[j]\n",
    "arr[j] = arr[i]\n",
    "arr[i] = temp \n",
    "\n",
    "print(arr[2:4])"
   ]
  },
  {
   "cell_type": "code",
   "execution_count": 15,
   "metadata": {},
   "outputs": [
    {
     "name": "stdout",
     "output_type": "stream",
     "text": [
      "value:\n",
      "5\n",
      "8\n",
      "10\n",
      "378\n",
      "6\n",
      "index:\n",
      "0\n",
      "1\n",
      "2\n",
      "3\n",
      "4\n",
      "0 is the index, 5 is the value.\n",
      "1 is the index, 8 is the value.\n",
      "2 is the index, 10 is the value.\n",
      "3 is the index, 378 is the value.\n",
      "4 is the index, 6 is the value.\n"
     ]
    }
   ],
   "source": [
    "# index, value\n",
    "arr = [5, 8, 10, 378, 6]\n",
    "\n",
    "print(\"value:\")\n",
    "# value \n",
    "for val in arr:\n",
    "    print(val)\n",
    "\n",
    "print(\"index:\")\n",
    "# index\n",
    "arr_len = 5\n",
    "for i in range(arr_len):\n",
    "    print(i)\n",
    "\n",
    "for i, v in enumerate(arr):\n",
    "    print(f\"{i} is the index, {v} is the value.\")"
   ]
  },
  {
   "cell_type": "code",
   "execution_count": 16,
   "metadata": {},
   "outputs": [],
   "source": [
    "# we have an array, and we want to find a specified number, and return its index\n",
    "# if the number is not in the array, return -1\n",
    "\n",
    "# O(1), O(log n), O(n), O(n^2)\n",
    "# \"search\"\n",
    "# O(n) runtime\n",
    "# O(1) space\n",
    "\n",
    "def find_the_index(nums: list[int], target: int) -> int: \n",
    "    for i, v in enumerate(nums):\n",
    "        if v == target: \n",
    "            return i  # early stopping\n",
    "    return -1\n",
    "\n",
    "\n"
   ]
  },
  {
   "cell_type": "code",
   "execution_count": 17,
   "metadata": {},
   "outputs": [
    {
     "data": {
      "text/plain": [
       "2"
      ]
     },
     "execution_count": 17,
     "metadata": {},
     "output_type": "execute_result"
    }
   ],
   "source": [
    "# insert 3 at position 2\n",
    "bunch_of_shit = [2, 7, 3, 9, 49, 73, 562, 36, None]\n",
    "find_the_index(bunch_of_shit, 3)"
   ]
  },
  {
   "cell_type": "code",
   "execution_count": 22,
   "metadata": {},
   "outputs": [],
   "source": [
    "# Insert into an array\n",
    "# O(n) time\n",
    "# O(1) space \n",
    "\n",
    "def good_insert(nums, value, location):\n",
    "    print(f\"Here's what we started with: {nums}\")\n",
    "\n",
    "    nums.append(None)\n",
    "    j = len(nums) - 1\n",
    "    \n",
    "    while j > location: \n",
    "        nums[j] = nums[j-1]\n",
    "        j -= 1\n",
    "    \n",
    "    nums[location] = value \n",
    "    print(f\"Here's what we end with: {nums}\")\n",
    "    \n",
    "## 5, 6, 8, 4, 2, 3, 1, None \n"
   ]
  },
  {
   "cell_type": "code",
   "execution_count": 19,
   "metadata": {},
   "outputs": [
    {
     "name": "stdout",
     "output_type": "stream",
     "text": [
      "Here's what we started with: [2, 7, 3, 9, 49, 73, 562, 36]\n",
      "Here's what we end with: [2, 7, 3, 8, 9, 49, 73, 562, 36]\n"
     ]
    }
   ],
   "source": [
    "bunch_of_shit = [2, 7, 3, 9, 49, 73, 562, 36]\n",
    "\n",
    "good_insert(bunch_of_shit, 8, 3)"
   ]
  },
  {
   "cell_type": "code",
   "execution_count": 20,
   "metadata": {},
   "outputs": [],
   "source": [
    "# \"insert\"\n",
    "# We are given an array of numbers, and a new value.  \n",
    "# Insert the new value at the specified index. \n",
    "# O(n) time\n",
    "# O(n) space\n",
    "def bad_insert(nums, value, location):\n",
    "\n",
    "    results = list()\n",
    "\n",
    "    for i in range(location):\n",
    "        results.append(nums[i])\n",
    "\n",
    "    results.append(value)\n",
    "\n",
    "    for i in range(location, len(nums)):\n",
    "        results.append(nums[i])\n",
    "\n",
    "    return results"
   ]
  }
 ],
 "metadata": {
  "kernelspec": {
   "display_name": "Python 3",
   "language": "python",
   "name": "python3"
  },
  "language_info": {
   "codemirror_mode": {
    "name": "ipython",
    "version": 3
   },
   "file_extension": ".py",
   "mimetype": "text/x-python",
   "name": "python",
   "nbconvert_exporter": "python",
   "pygments_lexer": "ipython3",
   "version": "3.12.2"
  }
 },
 "nbformat": 4,
 "nbformat_minor": 2
}
